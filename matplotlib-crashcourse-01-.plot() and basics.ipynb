{
 "cells": [
  {
   "attachments": {},
   "cell_type": "markdown",
   "metadata": {},
   "source": [
    "# Matplotlib.pyplot Crash Course: E01 -- .plot() and formating basics"
   ]
  },
  {
   "attachments": {},
   "cell_type": "markdown",
   "metadata": {},
   "source": [
    "__Created by: Lia Tan__"
   ]
  },
  {
   "attachments": {},
   "cell_type": "markdown",
   "metadata": {},
   "source": [
    "This lecture note covers the basics of Matplotlib, including plotting data, using different marker styles and line properties, selecting colors, and creating creative visualizations. Practice these concepts and have fun exploring the world of data visualization with Matplotlib!"
   ]
  },
  {
   "attachments": {},
   "cell_type": "markdown",
   "metadata": {},
   "source": [
    "# Install requirements"
   ]
  },
  {
   "attachments": {},
   "cell_type": "markdown",
   "metadata": {},
   "source": [
    "To get started with Matplotlib, you need to install the library:"
   ]
  },
  {
   "cell_type": "code",
   "execution_count": null,
   "metadata": {},
   "outputs": [],
   "source": [
    "! pip install matplotlib"
   ]
  },
  {
   "attachments": {},
   "cell_type": "markdown",
   "metadata": {},
   "source": [
    "After installation, you can import Matplotlib and start creating plots."
   ]
  },
  {
   "cell_type": "code",
   "execution_count": null,
   "metadata": {},
   "outputs": [],
   "source": [
    "import matplotlib.pyplot as plt\n",
    "import math"
   ]
  },
  {
   "attachments": {},
   "cell_type": "markdown",
   "metadata": {},
   "source": [
    "# Basics"
   ]
  },
  {
   "attachments": {},
   "cell_type": "markdown",
   "metadata": {},
   "source": [
    "### Documentation\n",
    "matplotlib.pyplot.plot(*args, scalex=True, scaley=True, data=None, **kwargs)\n",
    "\n",
    "Documentation link:\n",
    "\n",
    "https://matplotlib.org/stable/api/_as_gen/matplotlib.pyplot.plot.html#matplotlib.pyplot.plot"
   ]
  },
  {
   "attachments": {},
   "cell_type": "markdown",
   "metadata": {},
   "source": [
    "### Basic usage\n",
    "Plot a series of values using the default line style:\n"
   ]
  },
  {
   "cell_type": "code",
   "execution_count": null,
   "metadata": {},
   "outputs": [],
   "source": [
    "plt.plot([1,2,3,4])\n",
    "plt.show()"
   ]
  },
  {
   "attachments": {},
   "cell_type": "markdown",
   "metadata": {},
   "source": [
    "Plot with a specific marker style and color:"
   ]
  },
  {
   "cell_type": "code",
   "execution_count": null,
   "metadata": {},
   "outputs": [],
   "source": [
    "plt.plot([1,2,3,4],'r^')\n",
    "plt.show()"
   ]
  },
  {
   "attachments": {},
   "cell_type": "markdown",
   "metadata": {},
   "source": [
    "Combine multiple plots in one figure:"
   ]
  },
  {
   "cell_type": "code",
   "execution_count": null,
   "metadata": {},
   "outputs": [],
   "source": [
    "plt.plot([1,2,3,4])\n",
    "plt.plot([1,2,3,4],'r^')\n",
    "plt.show()"
   ]
  },
  {
   "attachments": {},
   "cell_type": "markdown",
   "metadata": {},
   "source": [
    "### Basic usage (continued)\n"
   ]
  },
  {
   "attachments": {},
   "cell_type": "markdown",
   "metadata": {},
   "source": [
    "plot(x, y)        # plot x and y using default line style and color\n",
    "\n",
    "\n",
    "plot(x, y, 'bo')  # plot x and y using blue circle markers"
   ]
  },
  {
   "cell_type": "code",
   "execution_count": null,
   "metadata": {},
   "outputs": [],
   "source": [
    "plt.plot([1,1,1,1],[1,2,3,4])\n",
    "plt.show()"
   ]
  },
  {
   "cell_type": "code",
   "execution_count": null,
   "metadata": {},
   "outputs": [],
   "source": [
    "plt.plot([1,2,3,4],[1,1,1,1])\n",
    "plt.show()"
   ]
  },
  {
   "cell_type": "code",
   "execution_count": null,
   "metadata": {},
   "outputs": [],
   "source": [
    "plt.plot([1,2,3,4],[1,2,3,4])\n",
    "plt.plot([1,2,3,4],[4,3,2,1],'bo')\n",
    "plt.show()"
   ]
  },
  {
   "attachments": {},
   "cell_type": "markdown",
   "metadata": {},
   "source": [
    "# Markers"
   ]
  },
  {
   "attachments": {},
   "cell_type": "markdown",
   "metadata": {},
   "source": [
    "Various marker styles are available:"
   ]
  },
  {
   "attachments": {},
   "cell_type": "markdown",
   "metadata": {},
   "source": [
    "'.' :point marker\n",
    "\n",
    "',': pixel marker\n",
    "\n",
    "'o': circle marker\n",
    "\n",
    "'v': triangle_down marker\n",
    "\n",
    "'^': triangle_up marker\n",
    "\n",
    "'<': triangle_left marker\n",
    "\n",
    "'>': triangle_right marker\n"
   ]
  },
  {
   "cell_type": "code",
   "execution_count": null,
   "metadata": {},
   "outputs": [],
   "source": [
    "plt.plot([1,2,3,4],[4,3,2,1],'b.')"
   ]
  },
  {
   "attachments": {},
   "cell_type": "markdown",
   "metadata": {},
   "source": [
    "'1': tri_down marker\n",
    "\n",
    "'2': tri_up marker\n",
    "\n",
    "'3': tri_left marker\n",
    "\n",
    "'4': tri_right marker\n",
    "\n",
    "'8': octagon marker\n",
    "\n"
   ]
  },
  {
   "cell_type": "code",
   "execution_count": null,
   "metadata": {},
   "outputs": [],
   "source": [
    "plt.plot([1,2,3,4],[4,3,2,1],'b1')\n",
    "#plt.plot([1,2,3,4],[4,3,2,1],'b8',markersize=30)"
   ]
  },
  {
   "attachments": {},
   "cell_type": "markdown",
   "metadata": {},
   "source": [
    "'s': square marker\n",
    "\n",
    "'p': pentagon marker\n",
    "\n",
    "'P': plus (filled) marker\n",
    "\n",
    "'*': star marker\n",
    "\n",
    "'h': hexagon1 marker\n",
    "\n",
    "'H': hexagon2 marker"
   ]
  },
  {
   "cell_type": "code",
   "execution_count": null,
   "metadata": {},
   "outputs": [],
   "source": [
    "plt.plot([1,2,3,4],[4,3,2,1],'s')"
   ]
  },
  {
   "attachments": {},
   "cell_type": "markdown",
   "metadata": {},
   "source": [
    "\n",
    "'+': plus marker\n",
    "\n",
    "'x': x marker\n",
    "\n",
    "'X': x (filled) marker\n",
    "\n",
    "'D': diamond marker\n",
    "\n",
    "'d': thin_diamond marker\n",
    "\n",
    "'|': vline marker\n",
    "\n",
    "'_': hline marker"
   ]
  },
  {
   "cell_type": "code",
   "execution_count": null,
   "metadata": {},
   "outputs": [],
   "source": [
    "plt.plot([1,2,3,4],[4,3,2,1],'+')"
   ]
  },
  {
   "attachments": {},
   "cell_type": "markdown",
   "metadata": {},
   "source": [
    "# Linestyles"
   ]
  },
  {
   "attachments": {},
   "cell_type": "markdown",
   "metadata": {},
   "source": [
    "'-': solid line style\n",
    "\n",
    "'--': dashed line style\n",
    "\n",
    "'-.': dash-dot line style\n",
    "\n",
    "':': dotted line style"
   ]
  },
  {
   "cell_type": "code",
   "execution_count": null,
   "metadata": {},
   "outputs": [],
   "source": [
    "x = [0,1,2,3]\n",
    "y=[1,2,3,4]\n",
    "plt.plot(x,y,'+')\n",
    "#plt.plot(x,y,'--')"
   ]
  },
  {
   "attachments": {},
   "cell_type": "markdown",
   "metadata": {},
   "source": [
    "# Color"
   ]
  },
  {
   "attachments": {},
   "cell_type": "markdown",
   "metadata": {},
   "source": [
    "Choose colors for your plots:"
   ]
  },
  {
   "attachments": {},
   "cell_type": "markdown",
   "metadata": {},
   "source": [
    "'b': blue\n",
    "\n",
    "'g': green\n",
    "\n",
    "'r': red\n",
    "\n",
    "'c': cyan\n",
    "\n",
    "'m': magenta\n",
    "\n",
    "'y': yellow\n",
    "\n",
    "'k': black\n",
    "\n",
    "'w': white"
   ]
  },
  {
   "cell_type": "code",
   "execution_count": null,
   "metadata": {},
   "outputs": [],
   "source": [
    "color = ['b','g','r','c','m','y','k','w']\n",
    "series = range(8)\n",
    "for i, color in zip(series, color):\n",
    "    plt.plot([1], [i], marker='o', markersize=5, color=color, label= f'{color}')\n",
    "\n",
    "plt.title('title')\n",
    "plt.xlabel('X-axis')\n",
    "plt.ylabel('Y-axis')\n",
    "plt.legend()\n",
    "plt.show()"
   ]
  },
  {
   "cell_type": "code",
   "execution_count": null,
   "metadata": {},
   "outputs": [],
   "source": [
    "color = ['blue', 'green', 'red', 'cyan', 'magenta', 'yellow', 'black', 'white']\n",
    "series = range(8)\n",
    "for i, color in zip(series, color):\n",
    "    plt.plot([1], [i], marker='v', markersize=5, color=color, label= f'{color}')\n",
    "\n",
    "plt.title('title')\n",
    "plt.xlabel('X-axis')\n",
    "plt.ylabel('Y-axis')\n",
    "plt.legend()\n",
    "plt.show()"
   ]
  },
  {
   "cell_type": "code",
   "execution_count": null,
   "metadata": {},
   "outputs": [],
   "source": [
    "color = ['lightblue', 'darkgreen', 'orange', 'navy', 'pink', 'lightyellow', 'gray']\n",
    "series = range(8)\n",
    "for i, color in zip(series, color):\n",
    "    plt.plot([1], [i], marker='D', markersize=5, color=color, label= f'{color}')\n",
    "\n",
    "plt.title('title')\n",
    "plt.xlabel('X-axis')\n",
    "plt.ylabel('Y-axis')\n",
    "plt.legend()\n",
    "plt.show()"
   ]
  },
  {
   "attachments": {},
   "cell_type": "markdown",
   "metadata": {},
   "source": [
    "# A Trick"
   ]
  },
  {
   "attachments": {},
   "cell_type": "markdown",
   "metadata": {},
   "source": [
    "fmt = '[marker][line][color]'\n",
    "\n",
    "\n",
    " -- the order is changable, but there can only be one symbol for each type of format value"
   ]
  },
  {
   "attachments": {},
   "cell_type": "markdown",
   "metadata": {},
   "source": [
    "\n",
    "'or'/'ro'   # red circles\n",
    "\n",
    "\n",
    "'--g'/'g--'   # green dashed line"
   ]
  },
  {
   "cell_type": "code",
   "execution_count": null,
   "metadata": {},
   "outputs": [],
   "source": [
    "plt.plot(x,y,color = 'blue',marker='d',linestyle=':')"
   ]
  },
  {
   "cell_type": "code",
   "execution_count": null,
   "metadata": {},
   "outputs": [],
   "source": [
    "plt.plot(x,y,'bd:')"
   ]
  },
  {
   "cell_type": "code",
   "execution_count": null,
   "metadata": {},
   "outputs": [],
   "source": [
    "#plt.plot(x,y,'--rbo')\n",
    "# this line will return a ValueError\n"
   ]
  },
  {
   "cell_type": "code",
   "execution_count": null,
   "metadata": {},
   "outputs": [],
   "source": [
    "#plt.plot(x,y,'--g-b')\n",
    "# this line will return a ValueError"
   ]
  },
  {
   "attachments": {},
   "cell_type": "markdown",
   "metadata": {},
   "source": [
    "# A Fun Face Example\n"
   ]
  },
  {
   "cell_type": "code",
   "execution_count": null,
   "metadata": {},
   "outputs": [],
   "source": [
    "#Draw the eyes\n",
    "plt.plot([-3],[3],'bX',markersize=30)\n",
    "plt.plot([3],[3],'bX',markersize=30)\n",
    "\n",
    "#Draw the mounth\n",
    "plt.plot(np.arange(-1.5,1.5,0.1)*math.pi,np.sin(10*np.arange(-1.5,1.5,0.1)),'--',linewidth=3)\n",
    "\n",
    "#Draw a circle as the face\n",
    "theta = np.linspace(0, 2*math.pi, 100)\n",
    "x = np.cos(theta)\n",
    "y = np.sin(theta)\n",
    "plt.plot(5*x, 5*y,'*')\n",
    "\n",
    "#set xlim and ylim\n",
    "plt.xlim([-6,6])\n",
    "plt.ylim([-5,5])\n",
    "# Hide the frame and the x-yticks\n",
    "# Hide x and y ticks\n",
    "plt.xticks([])\n",
    "plt.yticks([])\n",
    "\n",
    "# Hide the frame\n",
    "plt.gca().spines['top'].set_visible(False)\n",
    "plt.gca().spines['bottom'].set_visible(False)\n",
    "plt.gca().spines['left'].set_visible(False)\n",
    "plt.gca().spines['right'].set_visible(False)"
   ]
  },
  {
   "attachments": {},
   "cell_type": "markdown",
   "metadata": {},
   "source": [
    "# Excercise: Create your own fun face"
   ]
  },
  {
   "cell_type": "code",
   "execution_count": null,
   "metadata": {},
   "outputs": [],
   "source": [
    "plt.plot()"
   ]
  }
 ],
 "metadata": {
  "kernelspec": {
   "display_name": ".venv",
   "language": "python",
   "name": "python3"
  },
  "language_info": {
   "codemirror_mode": {
    "name": "ipython",
    "version": 3
   },
   "file_extension": ".py",
   "mimetype": "text/x-python",
   "name": "python",
   "nbconvert_exporter": "python",
   "pygments_lexer": "ipython3",
   "version": "3.8.8"
  },
  "orig_nbformat": 4
 },
 "nbformat": 4,
 "nbformat_minor": 2
}
